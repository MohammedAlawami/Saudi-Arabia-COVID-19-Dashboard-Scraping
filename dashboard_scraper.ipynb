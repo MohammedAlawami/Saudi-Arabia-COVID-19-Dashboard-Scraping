{
 "cells": [
  {
   "cell_type": "code",
   "execution_count": null,
   "metadata": {},
   "outputs": [],
   "source": [
    "import pandas as pd\n",
    "import time\n",
    "import sys\n",
    "\n",
    "from datetime import datetime, timedelta\n",
    "from selenium import webdriver\n",
    "from bs4 import BeautifulSoup"
   ]
  },
  {
   "cell_type": "markdown",
   "metadata": {},
   "source": [
    "## Scraping the HTML Page"
   ]
  },
  {
   "cell_type": "code",
   "execution_count": null,
   "metadata": {},
   "outputs": [],
   "source": [
    "url = 'https://esriksa-emapstc.maps.arcgis.com/apps/opsdashboard/index.html#/6cd8cdcc73ab43939709e12c19b64a19'\n",
    "\n",
    "sys.stdout.write(\"\\r1%\")\n",
    "sys.stdout.flush()\n",
    "\n",
    "driver = webdriver.Chrome('./chromedriver')\n",
    "\n",
    "sys.stdout.write(\"\\r5%\")\n",
    "sys.stdout.flush()\n",
    "\n",
    "driver.get(url)\n",
    "for i in range(0, 10):\n",
    "    time.sleep(0.65) # Waiting for the page to fully load\n",
    "    sys.stdout.write('\\r{}%'.format(i*10 + 10))\n",
    "    sys.stdout.flush()\n",
    "sys.stdout.write(\"\\n\") \n",
    "\n",
    "soup = BeautifulSoup(driver.page_source, 'html.parser')\n",
    "driver.quit()"
   ]
  },
  {
   "cell_type": "code",
   "execution_count": null,
   "metadata": {},
   "outputs": [],
   "source": [
    "# Date Format is \"day-month\" e.g \"Apr 5\"\n",
    "update_time = datetime.strftime(datetime.now() - timedelta(1), '%b %d')\n",
    "feature_list = soup.find_all('nav', class_='feature-list')"
   ]
  },
  {
   "cell_type": "code",
   "execution_count": null,
   "metadata": {},
   "outputs": [],
   "source": [
    "all_stat = []\n",
    "\n",
    "for feature in feature_list:\n",
    "    stat = {}\n",
    "    for p in feature.find_all('p'):\n",
    "        strong = p.find_all('strong')\n",
    "        s = strong[0].text.split(' :')\n",
    "        s[0] = s[0].strip().replace(',', '')\n",
    "        stat[s[1].strip('\\u200e')] = int(s[0])\n",
    "\n",
    "    all_stat.append(stat)\n"
   ]
  },
  {
   "cell_type": "markdown",
   "metadata": {},
   "source": [
    "## Writing the new update into Dataframes"
   ]
  },
  {
   "cell_type": "code",
   "execution_count": null,
   "metadata": {},
   "outputs": [],
   "source": [
    "total_df = pd.DataFrame.from_dict(all_stat[0], orient='index').reset_index()\n",
    "total_df.columns = ['Region', 'Total Cases']\n",
    "active_df = pd.DataFrame.from_dict(all_stat[1], orient='index', columns=['Active Cases']).reset_index()\n",
    "active_df.columns = ['Region', 'Active Cases']\n",
    "recovered_df = pd.DataFrame.from_dict(all_stat[2], orient='index', columns=['Recovered Cases']).reset_index()\n",
    "recovered_df.columns = ['Region', 'Recovered Cases']"
   ]
  },
  {
   "cell_type": "code",
   "execution_count": null,
   "metadata": {},
   "outputs": [],
   "source": [
    "# Merging the new updates into one Dataframe\n",
    "new_update = pd.merge(pd.merge(total_df, active_df, how='outer'), recovered_df, how='outer')\n",
    "new_update['date'] = update_time\n",
    "new_update = new_update.fillna(0)"
   ]
  },
  {
   "cell_type": "markdown",
   "metadata": {},
   "source": [
    "## Reading the old data files and appending the new changes"
   ]
  },
  {
   "cell_type": "code",
   "execution_count": null,
   "metadata": {},
   "outputs": [],
   "source": [
    "daily_changes = pd.read_excel('ksa_covid19.xlsx', sheet_name='Daily Changes', parse_dates=['date'])\n",
    "daily_changes = daily_changes.append(new_update, ignore_index=True)\n",
    "\n",
    "writer = pd.ExcelWriter('ksa_covid19.xlsx')\n",
    "daily_changes.to_excel(writer, 'Daily Changes', index=False)"
   ]
  },
  {
   "cell_type": "markdown",
   "metadata": {},
   "source": [
    "## Merging Total Cases,\tActive Cases, and Recovered Cases in Individual sheets"
   ]
  },
  {
   "cell_type": "code",
   "execution_count": null,
   "metadata": {},
   "outputs": [],
   "source": [
    "total_df = pd.DataFrame.from_dict(all_stat[0], orient='index').reset_index()\n",
    "total_df.columns = ['City', 'Total Cases {}'.format(update_time)]\n",
    "active_df = pd.DataFrame.from_dict(all_stat[1], orient='index', columns=['Active Cases']).reset_index()\n",
    "active_df.columns = ['City', 'Active Cases {}'.format(update_time)]\n",
    "recovered_df = pd.DataFrame.from_dict(all_stat[2], orient='index', columns=['Recovered Cases']).reset_index()\n",
    "recovered_df.columns = ['City', 'Recovered Cases {}'.format(update_time)]\n",
    "new_update = pd.merge(pd.merge(total_df, active_df, how='outer'), recovered_df, how='outer')\n",
    "new_update = new_update.fillna(0)\n",
    "new_update['Death Cases {}'.format(update_time)] = new_update['Total Cases {}'.format(update_time)] - (new_update['Recovered Cases {}'.format(update_time)] + new_update['Active Cases {}'.format(update_time)])\n",
    "\n",
    "death_df = new_update[['City', 'Death Cases {}'.format(update_time)]]"
   ]
  },
  {
   "cell_type": "code",
   "execution_count": null,
   "metadata": {},
   "outputs": [],
   "source": [
    "total_df.columns = ['City', '{}'.format(update_time)]\n",
    "active_df.columns = ['City', '{}'.format(update_time)]\n",
    "recovered_df.columns = ['City', '{}'.format(update_time)]\n",
    "death_df.columns = ['City', '{}'.format(update_time)]"
   ]
  },
  {
   "cell_type": "code",
   "execution_count": null,
   "metadata": {},
   "outputs": [],
   "source": [
    "# Reading the previous update\n",
    "last_all_cases = pd.read_excel('last_update.xlsx', sheet_name='Infected')\n",
    "last_active_cases = pd.read_excel('last_update.xlsx', sheet_name='Active Cases')\n",
    "last_recovered_cases = pd.read_excel('last_update.xlsx', sheet_name='Recovered')\n",
    "last_death_cases = pd.read_excel('last_update.xlsx', sheet_name='Deaths')"
   ]
  },
  {
   "cell_type": "code",
   "execution_count": null,
   "metadata": {},
   "outputs": [],
   "source": [
    "update_all_cases = pd.merge(last_all_cases, total_df, how='outer', on='Region')\n",
    "update_active_cases = pd.merge(last_active_cases, active_df, how='outer', on='Region')\n",
    "update_recovered_cases = pd.merge(last_recovered_cases, recovered_df, how='outer', on='Region')\n",
    "update_death_cases = pd.merge(last_death_cases, death_df, how='outer', on='Region')\n",
    "\n",
    "update_all_cases = update_all_cases.fillna(0)\n",
    "update_active_cases = update_active_cases.fillna(0)\n",
    "update_recovered_cases = update_recovered_cases.fillna(0)\n",
    "update_death_cases = update_death_cases.fillna(0)"
   ]
  },
  {
   "cell_type": "code",
   "execution_count": null,
   "metadata": {},
   "outputs": [],
   "source": [
    "update_all_cases.to_excel(writer, 'Infected', index=False)\n",
    "update_active_cases.to_excel(writer, 'Active Cases', index=False)\n",
    "update_recovered_cases.to_excel(writer, 'Recovered', index=False)\n",
    "update_death_cases.to_excel(writer, 'Deaths', index=False)"
   ]
  },
  {
   "cell_type": "code",
   "execution_count": null,
   "metadata": {},
   "outputs": [],
   "source": [
    "last_all_cases_changes = pd.read_excel('last_update.xlsx', sheet_name='Infected Daily')\n",
    "last_active_cases_changes = pd.read_excel('last_update.xlsx', sheet_name='Active Cases Changes')\n",
    "last_recovered_cases_changes = pd.read_excel('last_update.xlsx', sheet_name='Recovered Daily')\n",
    "last_death_cases_changes = pd.read_excel('last_update.xlsx', sheet_name='Death Daily')"
   ]
  },
  {
   "cell_type": "code",
   "execution_count": null,
   "metadata": {},
   "outputs": [],
   "source": [
    "update_all_cases['{}'.format(update_time)] = update_all_cases[update_all_cases.columns[-1]] - update_all_cases[update_all_cases.columns[-2]]\n",
    "update_active_cases['{}'.format(update_time)] = update_active_cases[update_active_cases.columns[-1]] - update_active_cases[update_active_cases.columns[-2]]\n",
    "update_recovered_cases['{}'.format(update_time)] = update_recovered_cases[update_recovered_cases.columns[-1]] - update_recovered_cases[update_recovered_cases.columns[-2]]\n",
    "update_death_cases['{}'.format(update_time)] = update_death_cases[update_death_cases.columns[-1]] - update_death_cases[update_death_cases.columns[-2]]\n"
   ]
  },
  {
   "cell_type": "code",
   "execution_count": null,
   "metadata": {},
   "outputs": [],
   "source": [
    "update_all_cases_changes = pd.merge(last_all_cases_changes, update_all_cases[['{}'.format(update_time), 'Region']], how='outer', on='Region')\n",
    "update_active_cases_changes = pd.merge(last_active_cases_changes, update_active_cases[['{}'.format(update_time), 'Region']], how='outer', on='Region')\n",
    "update_recovered_cases_changes = pd.merge(last_recovered_cases_changes, update_recovered_cases[['{}'.format(update_time), 'Region']], how='outer', on='Region')\n",
    "update_death_cases_changes = pd.merge(last_death_cases_changes, update_death_cases[['{}'.format(update_time), 'Region']], how='outer', on='Region')\n"
   ]
  },
  {
   "cell_type": "code",
   "execution_count": null,
   "metadata": {},
   "outputs": [],
   "source": [
    "update_all_cases_changes.to_excel(writer, 'Infected Daily', index=False)\n",
    "update_active_cases_changes.to_excel(writer, 'Active Cases Changes', index=False)\n",
    "update_recovered_cases_changes.to_excel(writer, 'Recovered Daily', index=False)\n",
    "update_death_cases_changes.to_excel(writer, 'Death Daily', index=False)\n"
   ]
  },
  {
   "cell_type": "code",
   "execution_count": null,
   "metadata": {},
   "outputs": [],
   "source": [
    "writer.save()\n",
    "print('Finished Scraping, check the results in last_update.xlsx')"
   ]
  },
  {
   "cell_type": "code",
   "execution_count": null,
   "metadata": {},
   "outputs": [],
   "source": []
  }
 ],
 "metadata": {
  "kernelspec": {
   "display_name": "Python 3",
   "language": "python",
   "name": "python3"
  },
  "language_info": {
   "codemirror_mode": {
    "name": "ipython",
    "version": 3
   },
   "file_extension": ".py",
   "mimetype": "text/x-python",
   "name": "python",
   "nbconvert_exporter": "python",
   "pygments_lexer": "ipython3",
   "version": "3.7.4"
  }
 },
 "nbformat": 4,
 "nbformat_minor": 2
}
